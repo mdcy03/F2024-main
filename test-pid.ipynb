{
 "cells": [
  {
   "cell_type": "markdown",
   "metadata": {},
   "source": [
    "## Simple PID test"
   ]
  },
  {
   "cell_type": "markdown",
   "metadata": {},
   "source": [
    "The drone will hover to 0.5 m and then come back down"
   ]
  },
  {
   "cell_type": "code",
   "metadata": {
    "ExecuteTime": {
     "end_time": "2024-12-07T23:40:59.217038Z",
     "start_time": "2024-12-07T23:40:59.214263Z"
    }
   },
   "source": [
    "group_number = 21"
   ],
   "outputs": [],
   "execution_count": 1
  },
  {
   "cell_type": "code",
   "metadata": {
    "ExecuteTime": {
     "end_time": "2024-12-07T23:41:00.529602Z",
     "start_time": "2024-12-07T23:41:00.276030Z"
    }
   },
   "source": [
    "import logging\n",
    "import random\n",
    "import time\n",
    "import numpy as np\n",
    "\n",
    "import cflib.crtp\n",
    "from cflib.crazyflie import Crazyflie\n",
    "from cflib.crazyflie.syncCrazyflie import SyncCrazyflie\n",
    "from cflib.crazyflie.log import LogConfig\n",
    "from cflib.crazyflie.syncLogger import SyncLogger\n",
    "\n",
    "URI = f'radio://0/{group_number}/2M'\n",
    "\n",
    "# Only output errors from the logging framework\n",
    "logging.basicConfig(level=logging.ERROR)\n",
    "\n",
    "log_keys = ['e_x',\n",
    "            'e_y',\n",
    "            'e_roll',\n",
    "            'e_pitch',\n",
    "            'u2_pwm',\n",
    "            'u3_pwm',]\n",
    "\n",
    "other_log_keys = []\n",
    "\n",
    "if __name__ == '__main__':\n",
    "    cflib.crtp.init_drivers(enable_debug_driver=False)\n",
    "\n",
    "    with SyncCrazyflie(URI, cf=Crazyflie(rw_cache='./cache')) as scf:\n",
    "        cf = scf.cf\n",
    "\n",
    "        \n",
    "        print('Initializing as PID')\n",
    "        cf.param.set_value('stabilizer.controller', '1')\n",
    "\n",
    "    \n",
    "        print('Taking off!')\n",
    "\n",
    "        for y in range(10):\n",
    "            cf.commander.send_hover_setpoint(0, 0, 0, y / 25)\n",
    "            #cf.commander.send_stop_setpoint()\n",
    "            time.sleep(0.1)\n",
    "\n",
    "        for _ in range(50):\n",
    "            cf.commander.send_hover_setpoint(0, 0, 0, 0.5)\n",
    "            #cf.commander.send_stop_setpoint()\n",
    "            time.sleep(0.1)\n",
    "\n",
    "        for y in range(10):\n",
    "            cf.commander.send_hover_setpoint(0, 0, 0, (10 - y) / 25)\n",
    "            time.sleep(0.1)\n",
    "\n",
    "        for i in range(10):\n",
    "            cf.commander.send_stop_setpoint()\n",
    "            time.sleep(0.1)\n",
    "\n",
    "print('Done!') "
   ],
   "outputs": [
    {
     "name": "stderr",
     "output_type": "stream",
     "text": [
      "ERROR:cflib.crazyflie:Couldn't load link driver: Cannot find a Crazyradio Dongle\n",
      "\n",
      "Traceback (most recent call last):\n",
      "  File \"/Users/med/Library/CloudStorage/OneDrive-PrincetonUniversity/Fall 2024 - Princeton University/MAE 345 - Introduction to Robotics/F2024-main/drone/lib/python3.12/site-packages/cflib/drivers/crazyradio.py\", line 124, in __init__\n",
      "    device = _find_devices()[devid]\n",
      "             ^^^^^^^^^^^^^^^\n",
      "  File \"/Users/med/Library/CloudStorage/OneDrive-PrincetonUniversity/Fall 2024 - Princeton University/MAE 345 - Introduction to Robotics/F2024-main/drone/lib/python3.12/site-packages/cflib/drivers/crazyradio.py\", line 79, in _find_devices\n",
      "    devices = usb.core.find(idVendor=0x1915, idProduct=0x7777, find_all=1,\n",
      "              ^^^^^^^^^^^^^^^^^^^^^^^^^^^^^^^^^^^^^^^^^^^^^^^^^^^^^^^^^^^^\n",
      "  File \"/Users/med/Library/CloudStorage/OneDrive-PrincetonUniversity/Fall 2024 - Princeton University/MAE 345 - Introduction to Robotics/F2024-main/drone/lib/python3.12/site-packages/usb/core.py\", line 1309, in find\n",
      "    raise NoBackendError('No backend available')\n",
      "usb.core.NoBackendError: No backend available\n",
      "\n",
      "During handling of the above exception, another exception occurred:\n",
      "\n",
      "Traceback (most recent call last):\n",
      "  File \"/Users/med/Library/CloudStorage/OneDrive-PrincetonUniversity/Fall 2024 - Princeton University/MAE 345 - Introduction to Robotics/F2024-main/drone/lib/python3.12/site-packages/cflib/crazyflie/__init__.py\", line 231, in open_link\n",
      "    self.link = cflib.crtp.get_link_driver(\n",
      "                ^^^^^^^^^^^^^^^^^^^^^^^^^^^\n",
      "  File \"/Users/med/Library/CloudStorage/OneDrive-PrincetonUniversity/Fall 2024 - Princeton University/MAE 345 - Introduction to Robotics/F2024-main/drone/lib/python3.12/site-packages/cflib/crtp/__init__.py\", line 99, in get_link_driver\n",
      "    instance.connect(uri, link_quality_callback, link_error_callback)\n",
      "  File \"/Users/med/Library/CloudStorage/OneDrive-PrincetonUniversity/Fall 2024 - Princeton University/MAE 345 - Introduction to Robotics/F2024-main/drone/lib/python3.12/site-packages/cflib/crtp/radiodriver.py\", line 265, in connect\n",
      "    self._radio = RadioManager.open(devid)\n",
      "                  ^^^^^^^^^^^^^^^^^^^^^^^^\n",
      "  File \"/Users/med/Library/CloudStorage/OneDrive-PrincetonUniversity/Fall 2024 - Princeton University/MAE 345 - Introduction to Robotics/F2024-main/drone/lib/python3.12/site-packages/cflib/crtp/radiodriver.py\", line 224, in open\n",
      "    shared_radio = _SharedRadio(devid)\n",
      "                   ^^^^^^^^^^^^^^^^^^^\n",
      "  File \"/Users/med/Library/CloudStorage/OneDrive-PrincetonUniversity/Fall 2024 - Princeton University/MAE 345 - Introduction to Robotics/F2024-main/drone/lib/python3.12/site-packages/cflib/crtp/radiodriver.py\", line 147, in __init__\n",
      "    self._radio = Crazyradio(devid=devid)\n",
      "                  ^^^^^^^^^^^^^^^^^^^^^^^\n",
      "  File \"/Users/med/Library/CloudStorage/OneDrive-PrincetonUniversity/Fall 2024 - Princeton University/MAE 345 - Introduction to Robotics/F2024-main/drone/lib/python3.12/site-packages/cflib/drivers/crazyradio.py\", line 129, in __init__\n",
      "    raise Exception('Cannot find a Crazyradio Dongle')\n",
      "Exception: Cannot find a Crazyradio Dongle\n",
      "\n"
     ]
    },
    {
     "ename": "Exception",
     "evalue": "Couldn't load link driver: Cannot find a Crazyradio Dongle\n\nTraceback (most recent call last):\n  File \"/Users/med/Library/CloudStorage/OneDrive-PrincetonUniversity/Fall 2024 - Princeton University/MAE 345 - Introduction to Robotics/F2024-main/drone/lib/python3.12/site-packages/cflib/drivers/crazyradio.py\", line 124, in __init__\n    device = _find_devices()[devid]\n             ^^^^^^^^^^^^^^^\n  File \"/Users/med/Library/CloudStorage/OneDrive-PrincetonUniversity/Fall 2024 - Princeton University/MAE 345 - Introduction to Robotics/F2024-main/drone/lib/python3.12/site-packages/cflib/drivers/crazyradio.py\", line 79, in _find_devices\n    devices = usb.core.find(idVendor=0x1915, idProduct=0x7777, find_all=1,\n              ^^^^^^^^^^^^^^^^^^^^^^^^^^^^^^^^^^^^^^^^^^^^^^^^^^^^^^^^^^^^\n  File \"/Users/med/Library/CloudStorage/OneDrive-PrincetonUniversity/Fall 2024 - Princeton University/MAE 345 - Introduction to Robotics/F2024-main/drone/lib/python3.12/site-packages/usb/core.py\", line 1309, in find\n    raise NoBackendError('No backend available')\nusb.core.NoBackendError: No backend available\n\nDuring handling of the above exception, another exception occurred:\n\nTraceback (most recent call last):\n  File \"/Users/med/Library/CloudStorage/OneDrive-PrincetonUniversity/Fall 2024 - Princeton University/MAE 345 - Introduction to Robotics/F2024-main/drone/lib/python3.12/site-packages/cflib/crazyflie/__init__.py\", line 231, in open_link\n    self.link = cflib.crtp.get_link_driver(\n                ^^^^^^^^^^^^^^^^^^^^^^^^^^^\n  File \"/Users/med/Library/CloudStorage/OneDrive-PrincetonUniversity/Fall 2024 - Princeton University/MAE 345 - Introduction to Robotics/F2024-main/drone/lib/python3.12/site-packages/cflib/crtp/__init__.py\", line 99, in get_link_driver\n    instance.connect(uri, link_quality_callback, link_error_callback)\n  File \"/Users/med/Library/CloudStorage/OneDrive-PrincetonUniversity/Fall 2024 - Princeton University/MAE 345 - Introduction to Robotics/F2024-main/drone/lib/python3.12/site-packages/cflib/crtp/radiodriver.py\", line 265, in connect\n    self._radio = RadioManager.open(devid)\n                  ^^^^^^^^^^^^^^^^^^^^^^^^\n  File \"/Users/med/Library/CloudStorage/OneDrive-PrincetonUniversity/Fall 2024 - Princeton University/MAE 345 - Introduction to Robotics/F2024-main/drone/lib/python3.12/site-packages/cflib/crtp/radiodriver.py\", line 224, in open\n    shared_radio = _SharedRadio(devid)\n                   ^^^^^^^^^^^^^^^^^^^\n  File \"/Users/med/Library/CloudStorage/OneDrive-PrincetonUniversity/Fall 2024 - Princeton University/MAE 345 - Introduction to Robotics/F2024-main/drone/lib/python3.12/site-packages/cflib/crtp/radiodriver.py\", line 147, in __init__\n    self._radio = Crazyradio(devid=devid)\n                  ^^^^^^^^^^^^^^^^^^^^^^^\n  File \"/Users/med/Library/CloudStorage/OneDrive-PrincetonUniversity/Fall 2024 - Princeton University/MAE 345 - Introduction to Robotics/F2024-main/drone/lib/python3.12/site-packages/cflib/drivers/crazyradio.py\", line 129, in __init__\n    raise Exception('Cannot find a Crazyradio Dongle')\nException: Cannot find a Crazyradio Dongle\n",
     "output_type": "error",
     "traceback": [
      "\u001B[0;31m---------------------------------------------------------------------------\u001B[0m",
      "\u001B[0;31mException\u001B[0m                                 Traceback (most recent call last)",
      "Cell \u001B[0;32mIn[2], line 29\u001B[0m\n\u001B[1;32m     26\u001B[0m \u001B[38;5;28;01mif\u001B[39;00m \u001B[38;5;18m__name__\u001B[39m \u001B[38;5;241m==\u001B[39m \u001B[38;5;124m'\u001B[39m\u001B[38;5;124m__main__\u001B[39m\u001B[38;5;124m'\u001B[39m:\n\u001B[1;32m     27\u001B[0m     cflib\u001B[38;5;241m.\u001B[39mcrtp\u001B[38;5;241m.\u001B[39minit_drivers(enable_debug_driver\u001B[38;5;241m=\u001B[39m\u001B[38;5;28;01mFalse\u001B[39;00m)\n\u001B[0;32m---> 29\u001B[0m \u001B[43m    \u001B[49m\u001B[38;5;28;43;01mwith\u001B[39;49;00m\u001B[43m \u001B[49m\u001B[43mSyncCrazyflie\u001B[49m\u001B[43m(\u001B[49m\u001B[43mURI\u001B[49m\u001B[43m,\u001B[49m\u001B[43m \u001B[49m\u001B[43mcf\u001B[49m\u001B[38;5;241;43m=\u001B[39;49m\u001B[43mCrazyflie\u001B[49m\u001B[43m(\u001B[49m\u001B[43mrw_cache\u001B[49m\u001B[38;5;241;43m=\u001B[39;49m\u001B[38;5;124;43m'\u001B[39;49m\u001B[38;5;124;43m./cache\u001B[39;49m\u001B[38;5;124;43m'\u001B[39;49m\u001B[43m)\u001B[49m\u001B[43m)\u001B[49m\u001B[43m \u001B[49m\u001B[38;5;28;43;01mas\u001B[39;49;00m\u001B[43m \u001B[49m\u001B[43mscf\u001B[49m\u001B[43m:\u001B[49m\n\u001B[1;32m     30\u001B[0m \u001B[43m        \u001B[49m\u001B[43mcf\u001B[49m\u001B[43m \u001B[49m\u001B[38;5;241;43m=\u001B[39;49m\u001B[43m \u001B[49m\u001B[43mscf\u001B[49m\u001B[38;5;241;43m.\u001B[39;49m\u001B[43mcf\u001B[49m\n\u001B[1;32m     33\u001B[0m \u001B[43m        \u001B[49m\u001B[38;5;28;43mprint\u001B[39;49m\u001B[43m(\u001B[49m\u001B[38;5;124;43m'\u001B[39;49m\u001B[38;5;124;43mInitializing as PID\u001B[39;49m\u001B[38;5;124;43m'\u001B[39;49m\u001B[43m)\u001B[49m\n",
      "File \u001B[0;32m~/Library/CloudStorage/OneDrive-PrincetonUniversity/Fall 2024 - Princeton University/MAE 345 - Introduction to Robotics/F2024-main/drone/lib/python3.12/site-packages/cflib/crazyflie/syncCrazyflie.py:119\u001B[0m, in \u001B[0;36mSyncCrazyflie.__enter__\u001B[0;34m(self)\u001B[0m\n\u001B[1;32m    118\u001B[0m \u001B[38;5;28;01mdef\u001B[39;00m \u001B[38;5;21m__enter__\u001B[39m(\u001B[38;5;28mself\u001B[39m):\n\u001B[0;32m--> 119\u001B[0m     \u001B[38;5;28;43mself\u001B[39;49m\u001B[38;5;241;43m.\u001B[39;49m\u001B[43mopen_link\u001B[49m\u001B[43m(\u001B[49m\u001B[43m)\u001B[49m\n\u001B[1;32m    120\u001B[0m     \u001B[38;5;28;01mreturn\u001B[39;00m \u001B[38;5;28mself\u001B[39m\n",
      "File \u001B[0;32m~/Library/CloudStorage/OneDrive-PrincetonUniversity/Fall 2024 - Princeton University/MAE 345 - Introduction to Robotics/F2024-main/drone/lib/python3.12/site-packages/cflib/crazyflie/syncCrazyflie.py:95\u001B[0m, in \u001B[0;36mSyncCrazyflie.open_link\u001B[0;34m(self)\u001B[0m\n\u001B[1;32m     93\u001B[0m \u001B[38;5;28mself\u001B[39m\u001B[38;5;241m.\u001B[39m_remove_callbacks()\n\u001B[1;32m     94\u001B[0m \u001B[38;5;28mself\u001B[39m\u001B[38;5;241m.\u001B[39m_params_updated_event\u001B[38;5;241m.\u001B[39mclear()\n\u001B[0;32m---> 95\u001B[0m \u001B[38;5;28;01mraise\u001B[39;00m \u001B[38;5;167;01mException\u001B[39;00m(\u001B[38;5;28mself\u001B[39m\u001B[38;5;241m.\u001B[39m_error_message)\n",
      "\u001B[0;31mException\u001B[0m: Couldn't load link driver: Cannot find a Crazyradio Dongle\n\nTraceback (most recent call last):\n  File \"/Users/med/Library/CloudStorage/OneDrive-PrincetonUniversity/Fall 2024 - Princeton University/MAE 345 - Introduction to Robotics/F2024-main/drone/lib/python3.12/site-packages/cflib/drivers/crazyradio.py\", line 124, in __init__\n    device = _find_devices()[devid]\n             ^^^^^^^^^^^^^^^\n  File \"/Users/med/Library/CloudStorage/OneDrive-PrincetonUniversity/Fall 2024 - Princeton University/MAE 345 - Introduction to Robotics/F2024-main/drone/lib/python3.12/site-packages/cflib/drivers/crazyradio.py\", line 79, in _find_devices\n    devices = usb.core.find(idVendor=0x1915, idProduct=0x7777, find_all=1,\n              ^^^^^^^^^^^^^^^^^^^^^^^^^^^^^^^^^^^^^^^^^^^^^^^^^^^^^^^^^^^^\n  File \"/Users/med/Library/CloudStorage/OneDrive-PrincetonUniversity/Fall 2024 - Princeton University/MAE 345 - Introduction to Robotics/F2024-main/drone/lib/python3.12/site-packages/usb/core.py\", line 1309, in find\n    raise NoBackendError('No backend available')\nusb.core.NoBackendError: No backend available\n\nDuring handling of the above exception, another exception occurred:\n\nTraceback (most recent call last):\n  File \"/Users/med/Library/CloudStorage/OneDrive-PrincetonUniversity/Fall 2024 - Princeton University/MAE 345 - Introduction to Robotics/F2024-main/drone/lib/python3.12/site-packages/cflib/crazyflie/__init__.py\", line 231, in open_link\n    self.link = cflib.crtp.get_link_driver(\n                ^^^^^^^^^^^^^^^^^^^^^^^^^^^\n  File \"/Users/med/Library/CloudStorage/OneDrive-PrincetonUniversity/Fall 2024 - Princeton University/MAE 345 - Introduction to Robotics/F2024-main/drone/lib/python3.12/site-packages/cflib/crtp/__init__.py\", line 99, in get_link_driver\n    instance.connect(uri, link_quality_callback, link_error_callback)\n  File \"/Users/med/Library/CloudStorage/OneDrive-PrincetonUniversity/Fall 2024 - Princeton University/MAE 345 - Introduction to Robotics/F2024-main/drone/lib/python3.12/site-packages/cflib/crtp/radiodriver.py\", line 265, in connect\n    self._radio = RadioManager.open(devid)\n                  ^^^^^^^^^^^^^^^^^^^^^^^^\n  File \"/Users/med/Library/CloudStorage/OneDrive-PrincetonUniversity/Fall 2024 - Princeton University/MAE 345 - Introduction to Robotics/F2024-main/drone/lib/python3.12/site-packages/cflib/crtp/radiodriver.py\", line 224, in open\n    shared_radio = _SharedRadio(devid)\n                   ^^^^^^^^^^^^^^^^^^^\n  File \"/Users/med/Library/CloudStorage/OneDrive-PrincetonUniversity/Fall 2024 - Princeton University/MAE 345 - Introduction to Robotics/F2024-main/drone/lib/python3.12/site-packages/cflib/crtp/radiodriver.py\", line 147, in __init__\n    self._radio = Crazyradio(devid=devid)\n                  ^^^^^^^^^^^^^^^^^^^^^^^\n  File \"/Users/med/Library/CloudStorage/OneDrive-PrincetonUniversity/Fall 2024 - Princeton University/MAE 345 - Introduction to Robotics/F2024-main/drone/lib/python3.12/site-packages/cflib/drivers/crazyradio.py\", line 129, in __init__\n    raise Exception('Cannot find a Crazyradio Dongle')\nException: Cannot find a Crazyradio Dongle\n"
     ]
    }
   ],
   "execution_count": 2
  },
  {
   "cell_type": "code",
   "execution_count": null,
   "metadata": {},
   "outputs": [],
   "source": []
  }
 ],
 "metadata": {
  "kernelspec": {
   "display_name": "drone",
   "language": "python",
   "name": "drone"
  },
  "language_info": {
   "codemirror_mode": {
    "name": "ipython",
    "version": 3
   },
   "file_extension": ".py",
   "mimetype": "text/x-python",
   "name": "python",
   "nbconvert_exporter": "python",
   "pygments_lexer": "ipython3",
   "version": "3.12.4"
  }
 },
 "nbformat": 4,
 "nbformat_minor": 4
}
